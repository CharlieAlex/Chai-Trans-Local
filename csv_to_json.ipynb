{
 "cells": [
  {
   "cell_type": "code",
   "execution_count": 23,
   "metadata": {},
   "outputs": [],
   "source": [
    "# 設定目標\n",
    "rawdata_path = '/Users/alexlo/Downloads/'\n",
    "workdata_path = '/Users/alexlo/Desktop/Project/Chai_Trans/workdata/'\n",
    "file = '131671-US-397_Glossary.csv'\n",
    "from_lang = 'zh'\n",
    "to_lang = 'en'"
   ]
  },
  {
   "cell_type": "code",
   "execution_count": 24,
   "metadata": {},
   "outputs": [],
   "source": [
    "# 讀取套件與函數\n",
    "from translate.storage.tmx import tmxfile\n",
    "import pandas as pd\n",
    "import os"
   ]
  },
  {
   "cell_type": "code",
   "execution_count": 25,
   "metadata": {},
   "outputs": [
    {
     "name": "stdout",
     "output_type": "stream",
     "text": [
      "shape: (115, 2)\n",
      "done\n"
     ]
    }
   ],
   "source": [
    "# 轉換、資料量5倍、儲存\n",
    "os.chdir(rawdata_path)\n",
    "df = pd.read_csv(file, header=0)\n",
    "df = pd.concat([df, df, df, df, df]).reset_index(drop=True)\n",
    "print('shape:', df.shape)\n",
    "\n",
    "os.chdir(workdata_path)\n",
    "new_file = file.split('.')[:-1][0] + '.json'\n",
    "df.to_json(new_file, orient='records', lines=True)\n",
    "print('done')"
   ]
  }
 ],
 "metadata": {
  "kernelspec": {
   "display_name": "Python 3",
   "language": "python",
   "name": "python3"
  },
  "language_info": {
   "codemirror_mode": {
    "name": "ipython",
    "version": 3
   },
   "file_extension": ".py",
   "mimetype": "text/x-python",
   "name": "python",
   "nbconvert_exporter": "python",
   "pygments_lexer": "ipython3",
   "version": "3.11.5"
  }
 },
 "nbformat": 4,
 "nbformat_minor": 2
}
