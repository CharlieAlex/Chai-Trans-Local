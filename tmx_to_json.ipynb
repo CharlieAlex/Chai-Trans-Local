{
 "cells": [
  {
   "cell_type": "code",
   "execution_count": 9,
   "metadata": {},
   "outputs": [],
   "source": [
    "# 設定目標\n",
    "rawdata_path = '/Users/alexlo/Desktop/Project/Chai_Trans/rawdata/TMX/'\n",
    "workdata_path = '/Users/alexlo/Desktop/Project/Chai_Trans/workdata/'\n",
    "file = 'CH(Simplified)-EN.tmx'\n",
    "from_lang = 'zh'\n",
    "to_lang = 'en'"
   ]
  },
  {
   "cell_type": "code",
   "execution_count": 10,
   "metadata": {},
   "outputs": [],
   "source": [
    "# 讀取套件與函數\n",
    "from translate.storage.tmx import tmxfile\n",
    "import pandas as pd\n",
    "import os\n",
    "\n",
    "def tmx_to_df(path: str, from_: str, to_:str) -> pd.DataFrame:\n",
    "    with open(path, 'rb') as fin:\n",
    "        tmx_file = tmxfile(fin, from_, to_)\n",
    "    data = []\n",
    "    for node in tmx_file.unit_iter():\n",
    "        data.append([node.source, node.target])\n",
    "    df = pd.DataFrame(data, columns=[from_, to_])\n",
    "    return df"
   ]
  },
  {
   "cell_type": "code",
   "execution_count": null,
   "metadata": {},
   "outputs": [],
   "source": [
    "# 轉換並儲存\n",
    "os.chdir(rawdata_path)\n",
    "df = tmx_to_df(file, from_lang, to_lang)\n",
    "print('shape:', df.shape)\n",
    "\n",
    "os.chdir(workdata_path)\n",
    "new_file = file.split('.')[:-1][0] + '.json'\n",
    "df.to_json(new_file, orient='records', lines=True)\n",
    "print('done')"
   ]
  }
 ],
 "metadata": {
  "kernelspec": {
   "display_name": "Python 3",
   "language": "python",
   "name": "python3"
  },
  "language_info": {
   "codemirror_mode": {
    "name": "ipython",
    "version": 3
   },
   "file_extension": ".py",
   "mimetype": "text/x-python",
   "name": "python",
   "nbconvert_exporter": "python",
   "pygments_lexer": "ipython3",
   "version": "3.11.5"
  }
 },
 "nbformat": 4,
 "nbformat_minor": 2
}
