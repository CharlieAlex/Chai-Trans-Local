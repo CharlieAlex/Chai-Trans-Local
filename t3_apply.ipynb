{
 "cells": [
  {
   "cell_type": "code",
   "execution_count": 33,
   "metadata": {},
   "outputs": [],
   "source": [
    "# 設定目標\n",
    "directory = 'Untrans'\n",
    "file_name = 'test.docx'\n",
    "model_checkpoint = \"charliealex123/marian-finetuned-kde4-zh-to-en\""
   ]
  },
  {
   "cell_type": "code",
   "execution_count": 34,
   "metadata": {},
   "outputs": [],
   "source": [
    "# 讀取套件與函數\n",
    "from t0_config import rawdata_path, workdata_path\n",
    "from transformers import pipeline\n",
    "from docx import Document\n",
    "import os\n",
    "from tqdm import tqdm, trange\n",
    "import re\n",
    "\n",
    "rawdata = f'{rawdata_path}/{directory}/'\n",
    "workdata = f'{workdata_path}/{directory}/'\n",
    "\n",
    "def is_english_start(text):\n",
    "    \"\"\"\n",
    "    檢查一個字符串是否符合指定條件：\n",
    "    1. 為空\n",
    "    2. 英文字開頭\n",
    "    3. 跳脫字元後英文字開頭，e.g. \\tThis is an apple.\n",
    "    \"\"\"\n",
    "    pattern = r'^(\\s*|\\\\[^\\s]*)[A-Za-z]'\n",
    "\n",
    "    # 如果字符串以英文字母開頭，返回 True\n",
    "    if re.match(pattern, text):\n",
    "        return True\n",
    "\n",
    "    # 如果字符串為空，返回 True\n",
    "    if not text.strip():\n",
    "        return True\n",
    "\n",
    "    return False\n",
    "\n",
    "def split_string_into_chunks(text, max_length=500):\n",
    "    \"\"\"\n",
    "    將輸入的字串分成不超過指定長度的片段\n",
    "    \"\"\"\n",
    "    chunks = []\n",
    "\n",
    "    # 將輸入字串按照最大長度分成多個片段\n",
    "    while len(text) > max_length:\n",
    "        chunk = text[:max_length]\n",
    "        chunks.append(chunk)\n",
    "        text = text[max_length:]\n",
    "\n",
    "    # 將最後剩餘的部分添加到片段中\n",
    "    if len(text) > 0:\n",
    "        chunks.append(text)\n",
    "\n",
    "    return chunks\n"
   ]
  },
  {
   "cell_type": "code",
   "execution_count": 35,
   "metadata": {},
   "outputs": [],
   "source": [
    "# 讀取Word檔案\n",
    "os.chdir(rawdata)\n",
    "doc = Document(file_name)\n",
    "raw_text_list = [paragraph.text for paragraph in doc.paragraphs]"
   ]
  },
  {
   "cell_type": "code",
   "execution_count": 36,
   "metadata": {},
   "outputs": [
    {
     "name": "stderr",
     "output_type": "stream",
     "text": [
      "config.json: 100%|██████████| 1.43k/1.43k [00:00<00:00, 2.70MB/s]\n",
      "model.safetensors: 100%|██████████| 310M/310M [00:37<00:00, 8.33MB/s] \n",
      "generation_config.json: 100%|██████████| 288/288 [00:00<00:00, 553kB/s]\n"
     ]
    }
   ],
   "source": [
    "# 讀取機器學習模型\n",
    "translator = pipeline(\"translation\", model=model_checkpoint)"
   ]
  },
  {
   "cell_type": "code",
   "execution_count": 37,
   "metadata": {},
   "outputs": [
    {
     "name": "stderr",
     "output_type": "stream",
     "text": [
      "config.json: 100%|██████████| 1.39k/1.39k [00:00<00:00, 1.85MB/s]\n",
      "pytorch_model.bin: 100%|██████████| 312M/312M [00:29<00:00, 10.6MB/s] \n",
      "generation_config.json: 100%|██████████| 293/293 [00:00<00:00, 839kB/s]\n"
     ]
    }
   ],
   "source": [
    "translator2 = pipeline(\"translation\", model='Helsinki-NLP/opus-mt-zh-en', tokenizer=model_checkpoint)"
   ]
  },
  {
   "cell_type": "code",
   "execution_count": 15,
   "metadata": {},
   "outputs": [
    {
     "name": "stdout",
     "output_type": "stream",
     "text": [
      "第一句前五十字: 防振橡胶的性能评估装置\n",
      "最後一句前五十字: \n",
      "總共有 154 句\n"
     ]
    }
   ],
   "source": [
    "# 設定翻譯範圍\n",
    "raw_text_list = raw_text_list[:]\n",
    "print('第一句前五十字:', raw_text_list[0][0:50])\n",
    "print('最後一句前五十字:', raw_text_list[-1][0:50])\n",
    "print('總共有', len(raw_text_list), '句')"
   ]
  },
  {
   "cell_type": "code",
   "execution_count": 7,
   "metadata": {},
   "outputs": [
    {
     "name": "stderr",
     "output_type": "stream",
     "text": [
      "  0%|          | 0/154 [00:00<?, ?it/s]"
     ]
    },
    {
     "name": "stderr",
     "output_type": "stream",
     "text": [
      "  3%|▎         | 5/154 [00:01<00:44,  3.34it/s]"
     ]
    }
   ],
   "source": [
    "# 開始一句句翻譯\n",
    "max_length = 250\n",
    "trans_text_list = []\n",
    "for raw_text in tqdm(raw_text_list):\n",
    "    # 空白/英文開頭的段落不翻譯\n",
    "    if is_english_start(raw_text):\n",
    "        trans_text_list.append(raw_text)\n",
    "        continue\n",
    "\n",
    "    # 如果段落長度小於最大長度，直接翻譯，否則切完再翻譯\n",
    "    if len(raw_text) < max_length:\n",
    "        paragraph = translator(raw_text, max_length=1000, return_text=True)[0]['translation_text']\n",
    "    else:\n",
    "        temp_text_list = split_string_into_chunks(raw_text, max_length)\n",
    "        paragraph = ''\n",
    "        for temp_text in tqdm(temp_text_list):\n",
    "            paragraph += translator(temp_text, max_length=1000, return_text=True)[0]['translation_text']\n",
    "    trans_text_list.append(paragraph)"
   ]
  },
  {
   "cell_type": "code",
   "execution_count": 206,
   "metadata": {},
   "outputs": [
    {
     "name": "stdout",
     "output_type": "stream",
     "text": [
      "len of raw_text_list: 154\n",
      "len of trans_text_list: 154\n"
     ]
    }
   ],
   "source": [
    "# 檢查翻譯句子數量是否相同\n",
    "print('len of raw_text_list:', len(raw_text_list))\n",
    "print('len of trans_text_list:', len(trans_text_list))"
   ]
  },
  {
   "cell_type": "code",
   "execution_count": 207,
   "metadata": {},
   "outputs": [
    {
     "name": "stderr",
     "output_type": "stream",
     "text": [
      "  0%|          | 0/154 [00:00<?, ?it/s]"
     ]
    },
    {
     "name": "stderr",
     "output_type": "stream",
     "text": [
      "100%|██████████| 154/154 [00:00<00:00, 1214.39it/s]\n"
     ]
    }
   ],
   "source": [
    "# 產生新的Word檔案\n",
    "for i in trange(len(trans_text_list)):\n",
    "    paragraph = doc.paragraphs[i]\n",
    "    paragraph.text = trans_text_list[i]\n",
    "\n",
    "    # 如果格式是標題2，加粗\n",
    "    style = paragraph.style.name\n",
    "    if style == 'Heading 2':\n",
    "        paragraph.style.font.bold = True\n",
    "\n",
    "# 儲存成新檔案\n",
    "doc.save('translated.docx')"
   ]
  }
 ],
 "metadata": {
  "kernelspec": {
   "display_name": "Python 3",
   "language": "python",
   "name": "python3"
  },
  "language_info": {
   "codemirror_mode": {
    "name": "ipython",
    "version": 3
   },
   "file_extension": ".py",
   "mimetype": "text/x-python",
   "name": "python",
   "nbconvert_exporter": "python",
   "pygments_lexer": "ipython3",
   "version": "3.11.7"
  },
  "orig_nbformat": 4
 },
 "nbformat": 4,
 "nbformat_minor": 2
}
