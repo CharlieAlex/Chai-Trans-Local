{
 "cells": [
  {
   "cell_type": "markdown",
   "metadata": {},
   "source": [
    "# 主程式"
   ]
  },
  {
   "cell_type": "code",
   "execution_count": 11,
   "metadata": {},
   "outputs": [
    {
     "name": "stdout",
     "output_type": "stream",
     "text": [
      "The autoreload extension is already loaded. To reload it, use:\n",
      "  %reload_ext autoreload\n"
     ]
    }
   ],
   "source": [
    "# update anytime\n",
    "%load_ext autoreload\n",
    "%autoreload 2"
   ]
  },
  {
   "cell_type": "code",
   "execution_count": 12,
   "metadata": {},
   "outputs": [],
   "source": [
    "# 讀取套件與函數\n",
    "from t0_config import *\n",
    "from library.apply import is_english_start, split_string_into_chunks, translation_filter\n",
    "from transformers import pipeline\n",
    "from docx import Document\n",
    "from tqdm import tqdm, trange\n",
    "import os\n",
    "os.chdir(doc_path)"
   ]
  },
  {
   "cell_type": "code",
   "execution_count": 13,
   "metadata": {},
   "outputs": [
    {
     "name": "stdout",
     "output_type": "stream",
     "text": [
      "即將翻譯第 0 句至第 29 句\n",
      "從以下開始翻譯: 车辆格栅结构\n"
     ]
    }
   ],
   "source": [
    "# 讀取Word檔案\n",
    "doc = Document(file_name + '.docx')\n",
    "raw_text_list = [paragraph.text for paragraph in doc.paragraphs]\n",
    "target_text_list = translation_filter(raw_text_list, target_range)"
   ]
  },
  {
   "cell_type": "code",
   "execution_count": 4,
   "metadata": {},
   "outputs": [
    {
     "name": "stderr",
     "output_type": "stream",
     "text": [
      "model.safetensors: 100%|██████████| 310M/310M [00:37<00:00, 8.26MB/s] \n"
     ]
    }
   ],
   "source": [
    "# 讀取機器學習模型\n",
    "translator = pipeline(\"translation\", model=model_checkpoint)"
   ]
  },
  {
   "cell_type": "code",
   "execution_count": 6,
   "metadata": {},
   "outputs": [
    {
     "name": "stderr",
     "output_type": "stream",
     "text": [
      "100%|██████████| 2/2 [00:20<00:00, 10.16s/it]]\n",
      "100%|██████████| 2/2 [00:22<00:00, 11.37s/it]s]\n",
      "100%|██████████| 2/2 [00:20<00:00, 10.39s/it]t]\n",
      "100%|██████████| 2/2 [00:22<00:00, 11.31s/it]t]\n",
      "100%|██████████| 3/3 [00:29<00:00,  9.81s/it]t]\n",
      "100%|██████████| 2/2 [00:20<00:00, 10.10s/it]t]\n",
      "100%|██████████| 2/2 [00:22<00:00, 11.14s/it]t]\n",
      "100%|██████████| 2/2 [00:27<00:00, 13.92s/it]t]\n",
      "100%|██████████| 3/3 [00:28<00:00,  9.62s/it]t]\n",
      "100%|██████████| 3/3 [00:30<00:00, 10.02s/it]t]\n",
      "100%|██████████| 2/2 [00:14<00:00,  7.37s/it]t]\n",
      "100%|██████████| 91/91 [05:58<00:00,  3.94s/it]\n"
     ]
    }
   ],
   "source": [
    "# 開始一句句翻譯\n",
    "sentence_max_length = 250\n",
    "trans_text_list = []\n",
    "for sentence in tqdm(target_text_list):\n",
    "    # 空白/英文開頭的段落不翻譯\n",
    "    if is_english_start(sentence):\n",
    "        trans_text_list.append(sentence)\n",
    "        continue\n",
    "\n",
    "    # 如果段落長度小於最大長度，直接翻譯，否則切完再翻譯\n",
    "    if len(sentence) < sentence_max_length:\n",
    "        paragraph = translator(sentence, max_length=1000, return_text=True)[0]['translation_text']\n",
    "    else:\n",
    "        temp_text_list = split_string_into_chunks(sentence, sentence_max_length)\n",
    "        paragraph = ''\n",
    "        for temp_text in tqdm(temp_text_list):\n",
    "            paragraph += translator(temp_text, max_length=1000, return_text=True)[0]['translation_text']\n",
    "    trans_text_list.append(paragraph)"
   ]
  },
  {
   "cell_type": "code",
   "execution_count": 8,
   "metadata": {},
   "outputs": [
    {
     "name": "stderr",
     "output_type": "stream",
     "text": [
      "100%|██████████| 91/91 [00:00<00:00, 442.26it/s]\n"
     ]
    }
   ],
   "source": [
    "# 產生新的Word檔案\n",
    "for i in trange(len(trans_text_list)):\n",
    "    paragraph = doc.paragraphs[i]\n",
    "    paragraph.text = trans_text_list[i]\n",
    "\n",
    "    # 如果格式是標題2，加粗\n",
    "    style = paragraph.style.name\n",
    "    if style == 'Heading 2':\n",
    "        paragraph.style.font.bold = True\n",
    "\n",
    "# 儲存成新檔案\n",
    "doc.save(file_name + '_trans' + '.docx')"
   ]
  },
  {
   "cell_type": "markdown",
   "metadata": {},
   "source": [
    "# 其他"
   ]
  },
  {
   "cell_type": "code",
   "execution_count": null,
   "metadata": {},
   "outputs": [],
   "source": [
    "translator_raw = pipeline(\"translation\", model='Helsinki-NLP/opus-mt-zh-en', tokenizer=model_checkpoint)"
   ]
  }
 ],
 "metadata": {
  "kernelspec": {
   "display_name": "Python 3",
   "language": "python",
   "name": "python3"
  },
  "language_info": {
   "codemirror_mode": {
    "name": "ipython",
    "version": 3
   },
   "file_extension": ".py",
   "mimetype": "text/x-python",
   "name": "python",
   "nbconvert_exporter": "python",
   "pygments_lexer": "ipython3",
   "version": "3.11.5"
  },
  "orig_nbformat": 4
 },
 "nbformat": 4,
 "nbformat_minor": 2
}
