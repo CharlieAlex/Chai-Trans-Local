{
 "cells": [
  {
   "cell_type": "markdown",
   "metadata": {},
   "source": [
    "# 主程式"
   ]
  },
  {
   "cell_type": "code",
   "execution_count": 441,
   "metadata": {},
   "outputs": [
    {
     "name": "stdout",
     "output_type": "stream",
     "text": [
      "The autoreload extension is already loaded. To reload it, use:\n",
      "  %reload_ext autoreload\n"
     ]
    }
   ],
   "source": [
    "# update anytime\n",
    "%load_ext autoreload\n",
    "%autoreload 2"
   ]
  },
  {
   "cell_type": "code",
   "execution_count": 442,
   "metadata": {},
   "outputs": [],
   "source": [
    "# 讀取套件與函數\n",
    "from t0_config import *\n",
    "from library.apply import *\n",
    "from transformers import pipeline\n",
    "from docx import Document\n",
    "import os\n",
    "os.chdir(doc_path)\n",
    "tqdm.pandas()"
   ]
  },
  {
   "cell_type": "code",
   "execution_count": 443,
   "metadata": {},
   "outputs": [
    {
     "name": "stdout",
     "output_type": "stream",
     "text": [
      "即將翻譯整篇文章共 91 句\n",
      "從以下開始翻譯: 车辆格栅结构\n"
     ]
    }
   ],
   "source": [
    "# 讀取Word檔案\n",
    "doc = Document(file_name + '.docx')\n",
    "raw_text_list = [paragraph.text for paragraph in doc.paragraphs]\n",
    "target_text_list = translation_filter(raw_text_list, target_range)"
   ]
  },
  {
   "cell_type": "code",
   "execution_count": 444,
   "metadata": {},
   "outputs": [],
   "source": [
    "# 文字處理\n",
    "df = pd.DataFrame({\n",
    "\t'sentence':[ [text] for text in target_text_list],\n",
    "\t'skip_train':[skip_train(text) for text in target_text_list],\n",
    "})\n",
    "\n",
    "df['split_sentence'] = (df['sentence']\n",
    "\t.apply(lambda x: split_string_by_dot(x))\n",
    "\t.apply(lambda x: split_string_by_semicolon(x))\n",
    "\t.apply(lambda x: split_string_by_comma(x))\n",
    ")\n",
    "\n",
    "max_times = 0\n",
    "max_of_maxlength = count_max_characters(df['split_sentence'])\n",
    "while (max_of_maxlength > 100) & (max_times < 5):\n",
    "\tdf['split_sentence'] = df['split_sentence'].apply(lambda x: split_string_by_comma(x))\n",
    "\tmax_of_maxlength = count_max_characters(df['split_sentence'])\n",
    "\tmax_times += 1\n"
   ]
  },
  {
   "cell_type": "code",
   "execution_count": 445,
   "metadata": {},
   "outputs": [
    {
     "name": "stderr",
     "output_type": "stream",
     "text": [
      "model.safetensors: 100%|██████████| 310M/310M [00:24<00:00, 12.9MB/s] \n"
     ]
    }
   ],
   "source": [
    "# 讀取機器學習模型\n",
    "translator = pipeline(\"translation\", model=model_checkpoint)"
   ]
  },
  {
   "cell_type": "code",
   "execution_count": 470,
   "metadata": {},
   "outputs": [
    {
     "data": {
      "text/html": [
       "<div>\n",
       "<style scoped>\n",
       "    .dataframe tbody tr th:only-of-type {\n",
       "        vertical-align: middle;\n",
       "    }\n",
       "\n",
       "    .dataframe tbody tr th {\n",
       "        vertical-align: top;\n",
       "    }\n",
       "\n",
       "    .dataframe thead th {\n",
       "        text-align: right;\n",
       "    }\n",
       "</style>\n",
       "<table border=\"1\" class=\"dataframe\">\n",
       "  <thead>\n",
       "    <tr style=\"text-align: right;\">\n",
       "      <th></th>\n",
       "      <th>sentence</th>\n",
       "      <th>skip_train</th>\n",
       "      <th>split_sentence</th>\n",
       "    </tr>\n",
       "  </thead>\n",
       "  <tbody>\n",
       "    <tr>\n",
       "      <th>0</th>\n",
       "      <td>[车辆格栅结构]</td>\n",
       "      <td>False</td>\n",
       "      <td>[车辆格栅结构]</td>\n",
       "    </tr>\n",
       "    <tr>\n",
       "      <th>1</th>\n",
       "      <td>[]</td>\n",
       "      <td>True</td>\n",
       "      <td>[]</td>\n",
       "    </tr>\n",
       "    <tr>\n",
       "      <th>2</th>\n",
       "      <td>[]</td>\n",
       "      <td>True</td>\n",
       "      <td>[]</td>\n",
       "    </tr>\n",
       "    <tr>\n",
       "      <th>3</th>\n",
       "      <td>[Technical Field]</td>\n",
       "      <td>True</td>\n",
       "      <td>[Technical Field]</td>\n",
       "    </tr>\n",
       "    <tr>\n",
       "      <th>4</th>\n",
       "      <td>[本发明涉及一种车辆结构，尤其涉及一种车辆格栅（grill）结构。]</td>\n",
       "      <td>False</td>\n",
       "      <td>[本发明涉及一种车辆结构，尤其涉及一种车辆格栅（grill）结构。, ]</td>\n",
       "    </tr>\n",
       "    <tr>\n",
       "      <th>5</th>\n",
       "      <td>[Description of Related Art]</td>\n",
       "      <td>False</td>\n",
       "      <td>[Description of Related Art]</td>\n",
       "    </tr>\n",
       "    <tr>\n",
       "      <th>6</th>\n",
       "      <td>[在现有技术中，车辆格栅结构包括具有格栅开口的车辆外装部件（例如，保险杠）、以及设置在格栅开...</td>\n",
       "      <td>False</td>\n",
       "      <td>[在现有技术中，车辆格栅结构包括具有格栅开口的车辆外装部件（例如，保险杠）、以及设置在格栅开...</td>\n",
       "    </tr>\n",
       "    <tr>\n",
       "      <th>7</th>\n",
       "      <td>[]</td>\n",
       "      <td>True</td>\n",
       "      <td>[]</td>\n",
       "    </tr>\n",
       "    <tr>\n",
       "      <th>8</th>\n",
       "      <td>[SUMMARY]</td>\n",
       "      <td>True</td>\n",
       "      <td>[SUMMARY]</td>\n",
       "    </tr>\n",
       "    <tr>\n",
       "      <th>9</th>\n",
       "      <td>[本发明提供一种车辆格栅结构，能够抑制风噪音且能够兼顾外观性。]</td>\n",
       "      <td>False</td>\n",
       "      <td>[本发明提供一种车辆格栅结构，能够抑制风噪音且能够兼顾外观性。, ]</td>\n",
       "    </tr>\n",
       "  </tbody>\n",
       "</table>\n",
       "</div>"
      ],
      "text/plain": [
       "                                            sentence  skip_train  \\\n",
       "0                                           [车辆格栅结构]       False   \n",
       "1                                                 []        True   \n",
       "2                                                 []        True   \n",
       "3                                  [Technical Field]        True   \n",
       "4                 [本发明涉及一种车辆结构，尤其涉及一种车辆格栅（grill）结构。]       False   \n",
       "5                       [Description of Related Art]       False   \n",
       "6  [在现有技术中，车辆格栅结构包括具有格栅开口的车辆外装部件（例如，保险杠）、以及设置在格栅开...       False   \n",
       "7                                                 []        True   \n",
       "8                                          [SUMMARY]        True   \n",
       "9                   [本发明提供一种车辆格栅结构，能够抑制风噪音且能够兼顾外观性。]       False   \n",
       "\n",
       "                                      split_sentence  \n",
       "0                                           [车辆格栅结构]  \n",
       "1                                                 []  \n",
       "2                                                 []  \n",
       "3                                  [Technical Field]  \n",
       "4               [本发明涉及一种车辆结构，尤其涉及一种车辆格栅（grill）结构。, ]  \n",
       "5                       [Description of Related Art]  \n",
       "6  [在现有技术中，车辆格栅结构包括具有格栅开口的车辆外装部件（例如，保险杠）、以及设置在格栅开...  \n",
       "7                                                 []  \n",
       "8                                          [SUMMARY]  \n",
       "9                 [本发明提供一种车辆格栅结构，能够抑制风噪音且能够兼顾外观性。, ]  "
      ]
     },
     "execution_count": 470,
     "metadata": {},
     "output_type": "execute_result"
    }
   ],
   "source": [
    "df.head(10)"
   ]
  },
  {
   "cell_type": "code",
   "execution_count": 471,
   "metadata": {},
   "outputs": [
    {
     "name": "stderr",
     "output_type": "stream",
     "text": [
      "  0%|          | 0/10 [00:00<?, ?it/s]"
     ]
    },
    {
     "name": "stderr",
     "output_type": "stream",
     "text": [
      "100%|██████████| 10/10 [00:24<00:00,  2.46s/it]\n"
     ]
    }
   ],
   "source": [
    "# 開始翻譯\n",
    "def translate_sentence(row:pd.Series)->str:\n",
    "    if row['skip_train']:\n",
    "        return ''.join(row['split_sentence'])\n",
    "\n",
    "    paragraph = ''\n",
    "    for sentence in row['split_sentence']:\n",
    "        print(sentence)\n",
    "        if not sentence.strip():\n",
    "            print('continue')\n",
    "            continue\n",
    "        paragraph += translator(sentence, max_length=1000, return_text=True)[0]['translation_text']\n",
    "    return paragraph\n",
    "\n",
    "trans_text_list = df.progress_apply(translate_sentence, axis=1)"
   ]
  },
  {
   "cell_type": "code",
   "execution_count": 476,
   "metadata": {},
   "outputs": [
    {
     "data": {
      "text/plain": [
       "'The invention provides a vehicle grid structure capable of suppressing wind noise and accommodating appearance.'"
      ]
     },
     "execution_count": 476,
     "metadata": {},
     "output_type": "execute_result"
    }
   ],
   "source": [
    "trans_text_list[9]"
   ]
  },
  {
   "cell_type": "code",
   "execution_count": 447,
   "metadata": {},
   "outputs": [
    {
     "name": "stderr",
     "output_type": "stream",
     "text": [
      "100%|██████████| 91/91 [00:00<00:00, 1127.73it/s]\n"
     ]
    }
   ],
   "source": [
    "# 產生新的Word檔案\n",
    "for i in trange(len(trans_text_list)):\n",
    "    paragraph = doc.paragraphs[i]\n",
    "    paragraph.text = trans_text_list[i]\n",
    "\n",
    "    # 如果格式是標題2，加粗\n",
    "    style = paragraph.style.name\n",
    "    if style == 'Heading 2':\n",
    "        paragraph.style.font.bold = True\n",
    "\n",
    "# 儲存成新檔案\n",
    "doc.save(file_name + '_trans' + '.docx')"
   ]
  },
  {
   "cell_type": "markdown",
   "metadata": {},
   "source": [
    "# 其他"
   ]
  },
  {
   "cell_type": "code",
   "execution_count": null,
   "metadata": {},
   "outputs": [],
   "source": [
    "translator_raw = pipeline(\"translation\", model='Helsinki-NLP/opus-mt-zh-en', tokenizer=model_checkpoint)"
   ]
  }
 ],
 "metadata": {
  "kernelspec": {
   "display_name": "Python 3",
   "language": "python",
   "name": "python3"
  },
  "language_info": {
   "codemirror_mode": {
    "name": "ipython",
    "version": 3
   },
   "file_extension": ".py",
   "mimetype": "text/x-python",
   "name": "python",
   "nbconvert_exporter": "python",
   "pygments_lexer": "ipython3",
   "version": "3.11.7"
  },
  "orig_nbformat": 4
 },
 "nbformat": 4,
 "nbformat_minor": 2
}
