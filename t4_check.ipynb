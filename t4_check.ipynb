{
 "cells": [
  {
   "cell_type": "markdown",
   "metadata": {},
   "source": [
    "# 主程式"
   ]
  },
  {
   "cell_type": "code",
   "execution_count": 1,
   "metadata": {},
   "outputs": [],
   "source": [
    "# update anytime\n",
    "%load_ext autoreload\n",
    "%autoreload 2"
   ]
  },
  {
   "cell_type": "code",
   "execution_count": 2,
   "metadata": {},
   "outputs": [],
   "source": [
    "from docx import Document\n",
    "from t0_config import doc_path\n",
    "import os\n",
    "import re\n",
    "import pandas as pd"
   ]
  },
  {
   "cell_type": "code",
   "execution_count": 3,
   "metadata": {},
   "outputs": [],
   "source": [
    "def count_word(doc:Document, word:str) -> int:\n",
    "    count = 0\n",
    "    for para in doc.paragraphs:\n",
    "        count += para.text.lower().count(word.lower())\n",
    "    return count"
   ]
  },
  {
   "cell_type": "code",
   "execution_count": 29,
   "metadata": {},
   "outputs": [],
   "source": [
    "os.chdir(doc_path)\n",
    "doc_raw = Document(\"[for MT] 132957.docx\")\n",
    "doc_tran = Document(\"[for_MT] 132957_trans.docx\")"
   ]
  },
  {
   "cell_type": "code",
   "execution_count": 4,
   "metadata": {},
   "outputs": [],
   "source": [
    "\n",
    "def find_matching_codes(doc, df):\n",
    "    matching_codes = []\n",
    "\n",
    "    for para in doc.paragraphs:\n",
    "        codes_found = re.findall(r'\\b[A-Za-z0-9]+\\b', para.text)\n",
    "        for code in codes_found:\n",
    "            if code in df['特殊編號'].values:\n",
    "                matching_codes.append((code, para.text))\n",
    "\n",
    "    return matching_codes"
   ]
  },
  {
   "cell_type": "code",
   "execution_count": null,
   "metadata": {},
   "outputs": [],
   "source": [
    "\n",
    "if __name__ == \"__main__\":\n",
    "    # Word 文档路径\n",
    "    docx_file = \"translated_document.docx\"\n",
    "    \n",
    "    # DataFrame 包含特殊编码和中文\n",
    "    data = {\n",
    "        '中文': ['中文1', '中文2', '中文3'],\n",
    "        '特殊編號': ['A231', 'X32', 'Z1']\n",
    "    }\n",
    "    df = pd.DataFrame(data)\n",
    "    \n",
    "    # 查找匹配的编码和文本\n",
    "    matching_codes = find_matching_codes(docx_file, df)\n",
    "    \n",
    "    # 打印匹配的编码和文本\n",
    "    for code, text in matching_codes:\n",
    "        print(f\"特殊編號 {code} 对应的文本: {text}\")\n"
   ]
  },
  {
   "cell_type": "code",
   "execution_count": 14,
   "metadata": {},
   "outputs": [],
   "source": [
    "df = pd.read_csv('/Users/alexlo/Downloads/test.csv')"
   ]
  },
  {
   "cell_type": "code",
   "execution_count": 7,
   "metadata": {},
   "outputs": [
    {
     "name": "stderr",
     "output_type": "stream",
     "text": [
      "/usr/local/lib/python3.11/site-packages/tqdm/auto.py:21: TqdmWarning: IProgress not found. Please update jupyter and ipywidgets. See https://ipywidgets.readthedocs.io/en/stable/user_install.html\n",
      "  from .autonotebook import tqdm as notebook_tqdm\n",
      "model.safetensors: 100%|██████████| 310M/310M [00:33<00:00, 9.21MB/s] \n"
     ]
    }
   ],
   "source": [
    "from transformers import pipeline\n",
    "model_checkpoint = \"charliealex123/marian-finetuned-kde4-zh-to-en\"\n",
    "translator = pipeline(\"translation\", model=model_checkpoint)"
   ]
  },
  {
   "cell_type": "code",
   "execution_count": 18,
   "metadata": {},
   "outputs": [],
   "source": [
    "for word in df['zh']:\n",
    "    paragraph = translator(word, max_length=1000, return_text=True)[0]['translation_text']\n",
    "\n",
    "df.apply()"
   ]
  },
  {
   "cell_type": "code",
   "execution_count": 19,
   "metadata": {},
   "outputs": [
    {
     "data": {
      "text/plain": [
       "'weighted processing result'"
      ]
     },
     "execution_count": 19,
     "metadata": {},
     "output_type": "execute_result"
    }
   ],
   "source": [
    "paragraph"
   ]
  }
 ],
 "metadata": {
  "kernelspec": {
   "display_name": "Python 3",
   "language": "python",
   "name": "python3"
  },
  "language_info": {
   "codemirror_mode": {
    "name": "ipython",
    "version": 3
   },
   "file_extension": ".py",
   "mimetype": "text/x-python",
   "name": "python",
   "nbconvert_exporter": "python",
   "pygments_lexer": "ipython3",
   "version": "3.11.7"
  }
 },
 "nbformat": 4,
 "nbformat_minor": 2
}
